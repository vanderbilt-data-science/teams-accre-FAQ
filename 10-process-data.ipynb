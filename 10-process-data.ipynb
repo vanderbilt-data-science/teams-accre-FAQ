{
 "cells": [
  {
   "cell_type": "markdown",
   "metadata": {},
   "source": [
    "# 10-process-data: Importing, cleaning, testing, and saving\n",
    "\n",
    "**Purpose** The purpose of this notebook is to load, clean, and save the data.  The data should also be tested upon entry and exit to ensure that all of its variables have values that are expected.  You may also form a train and test set here if desired.\n",
    "\n",
    "**A note on imputation**: If the data requires parameterized imputation and scikit-learn is the expected methodology of interest, evaluate whether performing imputation here or as a pipeline step would be most valuable and helpful."
   ]
  },
  {
   "cell_type": "markdown",
   "metadata": {},
   "source": [
    "#### Helpful packages and preliminaries"
   ]
  },
  {
   "cell_type": "code",
   "execution_count": null,
   "metadata": {},
   "outputs": [],
   "source": [
    "#data access and processing\n",
    "import pandas as pd\n",
    "import numpy as np\n",
    "\n",
    "#Testing assertions\n",
    "import great_expectations as ge"
   ]
  },
  {
   "cell_type": "code",
   "execution_count": null,
   "metadata": {},
   "outputs": [],
   "source": [
    "data_in_filename = ''\n",
    "cleaned_data_filename = ''"
   ]
  }
 ],
 "metadata": {
  "kernelspec": {
   "display_name": "Python 3",
   "language": "python",
   "name": "python3"
  },
  "language_info": {
   "codemirror_mode": {
    "name": "ipython",
    "version": 3
   },
   "file_extension": ".py",
   "mimetype": "text/x-python",
   "name": "python",
   "nbconvert_exporter": "python",
   "pygments_lexer": "ipython3",
   "version": "3.7.1"
  }
 },
 "nbformat": 4,
 "nbformat_minor": 2
}
